{
 "cells": [
  {
   "cell_type": "code",
   "execution_count": 1,
   "id": "8487d026-021c-4fbd-bb95-69bd284c9c53",
   "metadata": {},
   "outputs": [
    {
     "name": "stdout",
     "output_type": "stream",
     "text": [
      "Looking in indexes: https://pypi.org/simple, https://download.pytorch.org/whl/rocm6.1\n",
      "Requirement already satisfied: torch==2.4.1+rocm6.1 in /home/mar/rocm-pytorch/lib/python3.12/site-packages (from -r requirements.txt (line 4)) (2.4.1+rocm6.1)\n",
      "Requirement already satisfied: torchvision==0.19.1+rocm6.1 in /home/mar/rocm-pytorch/lib/python3.12/site-packages (from -r requirements.txt (line 5)) (0.19.1+rocm6.1)\n",
      "Requirement already satisfied: torchaudio==2.4.1+rocm6.1 in /home/mar/rocm-pytorch/lib/python3.12/site-packages (from -r requirements.txt (line 6)) (2.4.1+rocm6.1)\n",
      "Requirement already satisfied: numpy in /home/mar/rocm-pytorch/lib/python3.12/site-packages (from -r requirements.txt (line 12)) (2.2.6)\n",
      "Requirement already satisfied: pandas in /home/mar/rocm-pytorch/lib/python3.12/site-packages (from -r requirements.txt (line 13)) (2.3.3)\n",
      "Requirement already satisfied: scipy in /home/mar/rocm-pytorch/lib/python3.12/site-packages (from -r requirements.txt (line 14)) (1.16.2)\n",
      "Requirement already satisfied: scikit-learn in /home/mar/rocm-pytorch/lib/python3.12/site-packages (from -r requirements.txt (line 15)) (1.7.2)\n",
      "Requirement already satisfied: matplotlib in /home/mar/rocm-pytorch/lib/python3.12/site-packages (from -r requirements.txt (line 16)) (3.10.7)\n",
      "Requirement already satisfied: seaborn in /home/mar/rocm-pytorch/lib/python3.12/site-packages (from -r requirements.txt (line 17)) (0.13.2)\n",
      "Requirement already satisfied: opencv-python in /home/mar/rocm-pytorch/lib/python3.12/site-packages (from -r requirements.txt (line 18)) (4.12.0.88)\n",
      "Requirement already satisfied: Pillow in /home/mar/rocm-pytorch/lib/python3.12/site-packages (from -r requirements.txt (line 19)) (11.3.0)\n",
      "Requirement already satisfied: tqdm in /home/mar/rocm-pytorch/lib/python3.12/site-packages (from -r requirements.txt (line 20)) (4.67.1)\n",
      "Requirement already satisfied: jupyterlab in /home/mar/rocm-pytorch/lib/python3.12/site-packages (from -r requirements.txt (line 25)) (4.4.10)\n",
      "Requirement already satisfied: notebook in /home/mar/rocm-pytorch/lib/python3.12/site-packages (from -r requirements.txt (line 26)) (7.4.7)\n",
      "Requirement already satisfied: onnx in /home/mar/rocm-pytorch/lib/python3.12/site-packages (from -r requirements.txt (line 31)) (1.19.1)\n",
      "Requirement already satisfied: onnxruntime-gpu in /home/mar/rocm-pytorch/lib/python3.12/site-packages (from -r requirements.txt (line 32)) (1.23.2)\n",
      "Requirement already satisfied: albumentations in /home/mar/rocm-pytorch/lib/python3.12/site-packages (from -r requirements.txt (line 33)) (2.0.8)\n",
      "Requirement already satisfied: filelock in /home/mar/rocm-pytorch/lib/python3.12/site-packages (from torch==2.4.1+rocm6.1->-r requirements.txt (line 4)) (3.19.1)\n",
      "Requirement already satisfied: typing-extensions>=4.8.0 in /home/mar/rocm-pytorch/lib/python3.12/site-packages (from torch==2.4.1+rocm6.1->-r requirements.txt (line 4)) (4.15.0)\n",
      "Requirement already satisfied: sympy in /home/mar/rocm-pytorch/lib/python3.12/site-packages (from torch==2.4.1+rocm6.1->-r requirements.txt (line 4)) (1.13.1)\n",
      "Requirement already satisfied: networkx in /home/mar/rocm-pytorch/lib/python3.12/site-packages (from torch==2.4.1+rocm6.1->-r requirements.txt (line 4)) (3.5)\n",
      "Requirement already satisfied: jinja2 in /home/mar/rocm-pytorch/lib/python3.12/site-packages (from torch==2.4.1+rocm6.1->-r requirements.txt (line 4)) (3.1.6)\n",
      "Requirement already satisfied: fsspec in /home/mar/rocm-pytorch/lib/python3.12/site-packages (from torch==2.4.1+rocm6.1->-r requirements.txt (line 4)) (2025.9.0)\n",
      "Requirement already satisfied: setuptools in /home/mar/rocm-pytorch/lib/python3.12/site-packages (from torch==2.4.1+rocm6.1->-r requirements.txt (line 4)) (80.9.0)\n",
      "Requirement already satisfied: pytorch-triton-rocm==3.0.0 in /home/mar/rocm-pytorch/lib/python3.12/site-packages (from torch==2.4.1+rocm6.1->-r requirements.txt (line 4)) (3.0.0)\n",
      "Requirement already satisfied: python-dateutil>=2.8.2 in /home/mar/rocm-pytorch/lib/python3.12/site-packages (from pandas->-r requirements.txt (line 13)) (2.9.0.post0)\n",
      "Requirement already satisfied: pytz>=2020.1 in /home/mar/rocm-pytorch/lib/python3.12/site-packages (from pandas->-r requirements.txt (line 13)) (2025.2)\n",
      "Requirement already satisfied: tzdata>=2022.7 in /home/mar/rocm-pytorch/lib/python3.12/site-packages (from pandas->-r requirements.txt (line 13)) (2025.2)\n",
      "Requirement already satisfied: joblib>=1.2.0 in /home/mar/rocm-pytorch/lib/python3.12/site-packages (from scikit-learn->-r requirements.txt (line 15)) (1.5.2)\n",
      "Requirement already satisfied: threadpoolctl>=3.1.0 in /home/mar/rocm-pytorch/lib/python3.12/site-packages (from scikit-learn->-r requirements.txt (line 15)) (3.6.0)\n",
      "Requirement already satisfied: contourpy>=1.0.1 in /home/mar/rocm-pytorch/lib/python3.12/site-packages (from matplotlib->-r requirements.txt (line 16)) (1.3.3)\n",
      "Requirement already satisfied: cycler>=0.10 in /home/mar/rocm-pytorch/lib/python3.12/site-packages (from matplotlib->-r requirements.txt (line 16)) (0.12.1)\n",
      "Requirement already satisfied: fonttools>=4.22.0 in /home/mar/rocm-pytorch/lib/python3.12/site-packages (from matplotlib->-r requirements.txt (line 16)) (4.60.1)\n",
      "Requirement already satisfied: kiwisolver>=1.3.1 in /home/mar/rocm-pytorch/lib/python3.12/site-packages (from matplotlib->-r requirements.txt (line 16)) (1.4.9)\n",
      "Requirement already satisfied: packaging>=20.0 in /home/mar/rocm-pytorch/lib/python3.12/site-packages (from matplotlib->-r requirements.txt (line 16)) (25.0)\n",
      "Requirement already satisfied: pyparsing>=3 in /home/mar/rocm-pytorch/lib/python3.12/site-packages (from matplotlib->-r requirements.txt (line 16)) (3.2.5)\n",
      "Requirement already satisfied: async-lru>=1.0.0 in /home/mar/rocm-pytorch/lib/python3.12/site-packages (from jupyterlab->-r requirements.txt (line 25)) (2.0.5)\n",
      "Requirement already satisfied: httpx<1,>=0.25.0 in /home/mar/rocm-pytorch/lib/python3.12/site-packages (from jupyterlab->-r requirements.txt (line 25)) (0.28.1)\n",
      "Requirement already satisfied: ipykernel!=6.30.0,>=6.5.0 in /home/mar/rocm-pytorch/lib/python3.12/site-packages (from jupyterlab->-r requirements.txt (line 25)) (7.0.1)\n",
      "Requirement already satisfied: jupyter-core in /home/mar/rocm-pytorch/lib/python3.12/site-packages (from jupyterlab->-r requirements.txt (line 25)) (5.9.1)\n",
      "Requirement already satisfied: jupyter-lsp>=2.0.0 in /home/mar/rocm-pytorch/lib/python3.12/site-packages (from jupyterlab->-r requirements.txt (line 25)) (2.3.0)\n",
      "Requirement already satisfied: jupyter-server<3,>=2.4.0 in /home/mar/rocm-pytorch/lib/python3.12/site-packages (from jupyterlab->-r requirements.txt (line 25)) (2.17.0)\n",
      "Requirement already satisfied: jupyterlab-server<3,>=2.27.1 in /home/mar/rocm-pytorch/lib/python3.12/site-packages (from jupyterlab->-r requirements.txt (line 25)) (2.28.0)\n",
      "Requirement already satisfied: notebook-shim>=0.2 in /home/mar/rocm-pytorch/lib/python3.12/site-packages (from jupyterlab->-r requirements.txt (line 25)) (0.2.4)\n",
      "Requirement already satisfied: tornado>=6.2.0 in /home/mar/rocm-pytorch/lib/python3.12/site-packages (from jupyterlab->-r requirements.txt (line 25)) (6.5.2)\n",
      "Requirement already satisfied: traitlets in /home/mar/rocm-pytorch/lib/python3.12/site-packages (from jupyterlab->-r requirements.txt (line 25)) (5.14.3)\n",
      "Requirement already satisfied: anyio in /home/mar/rocm-pytorch/lib/python3.12/site-packages (from httpx<1,>=0.25.0->jupyterlab->-r requirements.txt (line 25)) (4.11.0)\n",
      "Requirement already satisfied: certifi in /home/mar/rocm-pytorch/lib/python3.12/site-packages (from httpx<1,>=0.25.0->jupyterlab->-r requirements.txt (line 25)) (2025.10.5)\n",
      "Requirement already satisfied: httpcore==1.* in /home/mar/rocm-pytorch/lib/python3.12/site-packages (from httpx<1,>=0.25.0->jupyterlab->-r requirements.txt (line 25)) (1.0.9)\n",
      "Requirement already satisfied: idna in /home/mar/rocm-pytorch/lib/python3.12/site-packages (from httpx<1,>=0.25.0->jupyterlab->-r requirements.txt (line 25)) (3.11)\n",
      "Requirement already satisfied: h11>=0.16 in /home/mar/rocm-pytorch/lib/python3.12/site-packages (from httpcore==1.*->httpx<1,>=0.25.0->jupyterlab->-r requirements.txt (line 25)) (0.16.0)\n",
      "Requirement already satisfied: argon2-cffi>=21.1 in /home/mar/rocm-pytorch/lib/python3.12/site-packages (from jupyter-server<3,>=2.4.0->jupyterlab->-r requirements.txt (line 25)) (25.1.0)\n",
      "Requirement already satisfied: jupyter-client>=7.4.4 in /home/mar/rocm-pytorch/lib/python3.12/site-packages (from jupyter-server<3,>=2.4.0->jupyterlab->-r requirements.txt (line 25)) (8.6.3)\n",
      "Requirement already satisfied: jupyter-events>=0.11.0 in /home/mar/rocm-pytorch/lib/python3.12/site-packages (from jupyter-server<3,>=2.4.0->jupyterlab->-r requirements.txt (line 25)) (0.12.0)\n",
      "Requirement already satisfied: jupyter-server-terminals>=0.4.4 in /home/mar/rocm-pytorch/lib/python3.12/site-packages (from jupyter-server<3,>=2.4.0->jupyterlab->-r requirements.txt (line 25)) (0.5.3)\n",
      "Requirement already satisfied: nbconvert>=6.4.4 in /home/mar/rocm-pytorch/lib/python3.12/site-packages (from jupyter-server<3,>=2.4.0->jupyterlab->-r requirements.txt (line 25)) (7.16.6)\n",
      "Requirement already satisfied: nbformat>=5.3.0 in /home/mar/rocm-pytorch/lib/python3.12/site-packages (from jupyter-server<3,>=2.4.0->jupyterlab->-r requirements.txt (line 25)) (5.10.4)\n",
      "Requirement already satisfied: prometheus-client>=0.9 in /home/mar/rocm-pytorch/lib/python3.12/site-packages (from jupyter-server<3,>=2.4.0->jupyterlab->-r requirements.txt (line 25)) (0.23.1)\n",
      "Requirement already satisfied: pyzmq>=24 in /home/mar/rocm-pytorch/lib/python3.12/site-packages (from jupyter-server<3,>=2.4.0->jupyterlab->-r requirements.txt (line 25)) (27.1.0)\n",
      "Requirement already satisfied: send2trash>=1.8.2 in /home/mar/rocm-pytorch/lib/python3.12/site-packages (from jupyter-server<3,>=2.4.0->jupyterlab->-r requirements.txt (line 25)) (1.8.3)\n",
      "Requirement already satisfied: terminado>=0.8.3 in /home/mar/rocm-pytorch/lib/python3.12/site-packages (from jupyter-server<3,>=2.4.0->jupyterlab->-r requirements.txt (line 25)) (0.18.1)\n",
      "Requirement already satisfied: websocket-client>=1.7 in /home/mar/rocm-pytorch/lib/python3.12/site-packages (from jupyter-server<3,>=2.4.0->jupyterlab->-r requirements.txt (line 25)) (1.9.0)\n",
      "Requirement already satisfied: babel>=2.10 in /home/mar/rocm-pytorch/lib/python3.12/site-packages (from jupyterlab-server<3,>=2.27.1->jupyterlab->-r requirements.txt (line 25)) (2.17.0)\n",
      "Requirement already satisfied: json5>=0.9.0 in /home/mar/rocm-pytorch/lib/python3.12/site-packages (from jupyterlab-server<3,>=2.27.1->jupyterlab->-r requirements.txt (line 25)) (0.12.1)\n",
      "Requirement already satisfied: jsonschema>=4.18.0 in /home/mar/rocm-pytorch/lib/python3.12/site-packages (from jupyterlab-server<3,>=2.27.1->jupyterlab->-r requirements.txt (line 25)) (4.25.1)\n",
      "Requirement already satisfied: requests>=2.31 in /home/mar/rocm-pytorch/lib/python3.12/site-packages (from jupyterlab-server<3,>=2.27.1->jupyterlab->-r requirements.txt (line 25)) (2.32.5)\n",
      "Requirement already satisfied: protobuf>=4.25.1 in /home/mar/rocm-pytorch/lib/python3.12/site-packages (from onnx->-r requirements.txt (line 31)) (6.33.0)\n",
      "Requirement already satisfied: ml_dtypes>=0.5.0 in /home/mar/rocm-pytorch/lib/python3.12/site-packages (from onnx->-r requirements.txt (line 31)) (0.5.3)\n",
      "Requirement already satisfied: coloredlogs in /home/mar/rocm-pytorch/lib/python3.12/site-packages (from onnxruntime-gpu->-r requirements.txt (line 32)) (15.0.1)\n",
      "Requirement already satisfied: flatbuffers in /home/mar/rocm-pytorch/lib/python3.12/site-packages (from onnxruntime-gpu->-r requirements.txt (line 32)) (25.9.23)\n",
      "Requirement already satisfied: PyYAML in /home/mar/rocm-pytorch/lib/python3.12/site-packages (from albumentations->-r requirements.txt (line 33)) (6.0.3)\n",
      "Requirement already satisfied: pydantic>=2.9.2 in /home/mar/rocm-pytorch/lib/python3.12/site-packages (from albumentations->-r requirements.txt (line 33)) (2.12.3)\n",
      "Requirement already satisfied: albucore==0.0.24 in /home/mar/rocm-pytorch/lib/python3.12/site-packages (from albumentations->-r requirements.txt (line 33)) (0.0.24)\n",
      "Requirement already satisfied: opencv-python-headless>=4.9.0.80 in /home/mar/rocm-pytorch/lib/python3.12/site-packages (from albumentations->-r requirements.txt (line 33)) (4.12.0.88)\n",
      "Requirement already satisfied: stringzilla>=3.10.4 in /home/mar/rocm-pytorch/lib/python3.12/site-packages (from albucore==0.0.24->albumentations->-r requirements.txt (line 33)) (4.2.1)\n",
      "Requirement already satisfied: simsimd>=5.9.2 in /home/mar/rocm-pytorch/lib/python3.12/site-packages (from albucore==0.0.24->albumentations->-r requirements.txt (line 33)) (6.5.3)\n",
      "Requirement already satisfied: sniffio>=1.1 in /home/mar/rocm-pytorch/lib/python3.12/site-packages (from anyio->httpx<1,>=0.25.0->jupyterlab->-r requirements.txt (line 25)) (1.3.1)\n",
      "Requirement already satisfied: argon2-cffi-bindings in /home/mar/rocm-pytorch/lib/python3.12/site-packages (from argon2-cffi>=21.1->jupyter-server<3,>=2.4.0->jupyterlab->-r requirements.txt (line 25)) (25.1.0)\n",
      "Requirement already satisfied: comm>=0.1.1 in /home/mar/rocm-pytorch/lib/python3.12/site-packages (from ipykernel!=6.30.0,>=6.5.0->jupyterlab->-r requirements.txt (line 25)) (0.2.3)\n",
      "Requirement already satisfied: debugpy>=1.6.5 in /home/mar/rocm-pytorch/lib/python3.12/site-packages (from ipykernel!=6.30.0,>=6.5.0->jupyterlab->-r requirements.txt (line 25)) (1.8.17)\n",
      "Requirement already satisfied: ipython>=7.23.1 in /home/mar/rocm-pytorch/lib/python3.12/site-packages (from ipykernel!=6.30.0,>=6.5.0->jupyterlab->-r requirements.txt (line 25)) (9.6.0)\n",
      "Requirement already satisfied: matplotlib-inline>=0.1 in /home/mar/rocm-pytorch/lib/python3.12/site-packages (from ipykernel!=6.30.0,>=6.5.0->jupyterlab->-r requirements.txt (line 25)) (0.2.1)\n",
      "Requirement already satisfied: nest-asyncio>=1.4 in /home/mar/rocm-pytorch/lib/python3.12/site-packages (from ipykernel!=6.30.0,>=6.5.0->jupyterlab->-r requirements.txt (line 25)) (1.6.0)\n",
      "Requirement already satisfied: psutil>=5.7 in /home/mar/rocm-pytorch/lib/python3.12/site-packages (from ipykernel!=6.30.0,>=6.5.0->jupyterlab->-r requirements.txt (line 25)) (7.1.1)\n",
      "Requirement already satisfied: decorator in /home/mar/rocm-pytorch/lib/python3.12/site-packages (from ipython>=7.23.1->ipykernel!=6.30.0,>=6.5.0->jupyterlab->-r requirements.txt (line 25)) (5.2.1)\n",
      "Requirement already satisfied: ipython-pygments-lexers in /home/mar/rocm-pytorch/lib/python3.12/site-packages (from ipython>=7.23.1->ipykernel!=6.30.0,>=6.5.0->jupyterlab->-r requirements.txt (line 25)) (1.1.1)\n",
      "Requirement already satisfied: jedi>=0.16 in /home/mar/rocm-pytorch/lib/python3.12/site-packages (from ipython>=7.23.1->ipykernel!=6.30.0,>=6.5.0->jupyterlab->-r requirements.txt (line 25)) (0.19.2)\n",
      "Requirement already satisfied: pexpect>4.3 in /home/mar/rocm-pytorch/lib/python3.12/site-packages (from ipython>=7.23.1->ipykernel!=6.30.0,>=6.5.0->jupyterlab->-r requirements.txt (line 25)) (4.9.0)\n",
      "Requirement already satisfied: prompt_toolkit<3.1.0,>=3.0.41 in /home/mar/rocm-pytorch/lib/python3.12/site-packages (from ipython>=7.23.1->ipykernel!=6.30.0,>=6.5.0->jupyterlab->-r requirements.txt (line 25)) (3.0.52)\n",
      "Requirement already satisfied: pygments>=2.4.0 in /home/mar/rocm-pytorch/lib/python3.12/site-packages (from ipython>=7.23.1->ipykernel!=6.30.0,>=6.5.0->jupyterlab->-r requirements.txt (line 25)) (2.19.2)\n",
      "Requirement already satisfied: stack_data in /home/mar/rocm-pytorch/lib/python3.12/site-packages (from ipython>=7.23.1->ipykernel!=6.30.0,>=6.5.0->jupyterlab->-r requirements.txt (line 25)) (0.6.3)\n",
      "Requirement already satisfied: wcwidth in /home/mar/rocm-pytorch/lib/python3.12/site-packages (from prompt_toolkit<3.1.0,>=3.0.41->ipython>=7.23.1->ipykernel!=6.30.0,>=6.5.0->jupyterlab->-r requirements.txt (line 25)) (0.2.14)\n",
      "Requirement already satisfied: parso<0.9.0,>=0.8.4 in /home/mar/rocm-pytorch/lib/python3.12/site-packages (from jedi>=0.16->ipython>=7.23.1->ipykernel!=6.30.0,>=6.5.0->jupyterlab->-r requirements.txt (line 25)) (0.8.5)\n",
      "Requirement already satisfied: MarkupSafe>=2.0 in /home/mar/rocm-pytorch/lib/python3.12/site-packages (from jinja2->torch==2.4.1+rocm6.1->-r requirements.txt (line 4)) (2.1.5)\n",
      "Requirement already satisfied: attrs>=22.2.0 in /home/mar/rocm-pytorch/lib/python3.12/site-packages (from jsonschema>=4.18.0->jupyterlab-server<3,>=2.27.1->jupyterlab->-r requirements.txt (line 25)) (25.4.0)\n",
      "Requirement already satisfied: jsonschema-specifications>=2023.03.6 in /home/mar/rocm-pytorch/lib/python3.12/site-packages (from jsonschema>=4.18.0->jupyterlab-server<3,>=2.27.1->jupyterlab->-r requirements.txt (line 25)) (2025.9.1)\n",
      "Requirement already satisfied: referencing>=0.28.4 in /home/mar/rocm-pytorch/lib/python3.12/site-packages (from jsonschema>=4.18.0->jupyterlab-server<3,>=2.27.1->jupyterlab->-r requirements.txt (line 25)) (0.37.0)\n",
      "Requirement already satisfied: rpds-py>=0.7.1 in /home/mar/rocm-pytorch/lib/python3.12/site-packages (from jsonschema>=4.18.0->jupyterlab-server<3,>=2.27.1->jupyterlab->-r requirements.txt (line 25)) (0.28.0)\n",
      "Requirement already satisfied: platformdirs>=2.5 in /home/mar/rocm-pytorch/lib/python3.12/site-packages (from jupyter-core->jupyterlab->-r requirements.txt (line 25)) (4.5.0)\n",
      "Requirement already satisfied: python-json-logger>=2.0.4 in /home/mar/rocm-pytorch/lib/python3.12/site-packages (from jupyter-events>=0.11.0->jupyter-server<3,>=2.4.0->jupyterlab->-r requirements.txt (line 25)) (4.0.0)\n",
      "Requirement already satisfied: rfc3339-validator in /home/mar/rocm-pytorch/lib/python3.12/site-packages (from jupyter-events>=0.11.0->jupyter-server<3,>=2.4.0->jupyterlab->-r requirements.txt (line 25)) (0.1.4)\n",
      "Requirement already satisfied: rfc3986-validator>=0.1.1 in /home/mar/rocm-pytorch/lib/python3.12/site-packages (from jupyter-events>=0.11.0->jupyter-server<3,>=2.4.0->jupyterlab->-r requirements.txt (line 25)) (0.1.1)\n",
      "Requirement already satisfied: fqdn in /home/mar/rocm-pytorch/lib/python3.12/site-packages (from jsonschema[format-nongpl]>=4.18.0->jupyter-events>=0.11.0->jupyter-server<3,>=2.4.0->jupyterlab->-r requirements.txt (line 25)) (1.5.1)\n",
      "Requirement already satisfied: isoduration in /home/mar/rocm-pytorch/lib/python3.12/site-packages (from jsonschema[format-nongpl]>=4.18.0->jupyter-events>=0.11.0->jupyter-server<3,>=2.4.0->jupyterlab->-r requirements.txt (line 25)) (20.11.0)\n",
      "Requirement already satisfied: jsonpointer>1.13 in /home/mar/rocm-pytorch/lib/python3.12/site-packages (from jsonschema[format-nongpl]>=4.18.0->jupyter-events>=0.11.0->jupyter-server<3,>=2.4.0->jupyterlab->-r requirements.txt (line 25)) (3.0.0)\n",
      "Requirement already satisfied: rfc3987-syntax>=1.1.0 in /home/mar/rocm-pytorch/lib/python3.12/site-packages (from jsonschema[format-nongpl]>=4.18.0->jupyter-events>=0.11.0->jupyter-server<3,>=2.4.0->jupyterlab->-r requirements.txt (line 25)) (1.1.0)\n",
      "Requirement already satisfied: uri-template in /home/mar/rocm-pytorch/lib/python3.12/site-packages (from jsonschema[format-nongpl]>=4.18.0->jupyter-events>=0.11.0->jupyter-server<3,>=2.4.0->jupyterlab->-r requirements.txt (line 25)) (1.3.0)\n",
      "Requirement already satisfied: webcolors>=24.6.0 in /home/mar/rocm-pytorch/lib/python3.12/site-packages (from jsonschema[format-nongpl]>=4.18.0->jupyter-events>=0.11.0->jupyter-server<3,>=2.4.0->jupyterlab->-r requirements.txt (line 25)) (24.11.1)\n",
      "Requirement already satisfied: beautifulsoup4 in /home/mar/rocm-pytorch/lib/python3.12/site-packages (from nbconvert>=6.4.4->jupyter-server<3,>=2.4.0->jupyterlab->-r requirements.txt (line 25)) (4.14.2)\n",
      "Requirement already satisfied: bleach!=5.0.0 in /home/mar/rocm-pytorch/lib/python3.12/site-packages (from bleach[css]!=5.0.0->nbconvert>=6.4.4->jupyter-server<3,>=2.4.0->jupyterlab->-r requirements.txt (line 25)) (6.2.0)\n",
      "Requirement already satisfied: defusedxml in /home/mar/rocm-pytorch/lib/python3.12/site-packages (from nbconvert>=6.4.4->jupyter-server<3,>=2.4.0->jupyterlab->-r requirements.txt (line 25)) (0.7.1)\n",
      "Requirement already satisfied: jupyterlab-pygments in /home/mar/rocm-pytorch/lib/python3.12/site-packages (from nbconvert>=6.4.4->jupyter-server<3,>=2.4.0->jupyterlab->-r requirements.txt (line 25)) (0.3.0)\n",
      "Requirement already satisfied: mistune<4,>=2.0.3 in /home/mar/rocm-pytorch/lib/python3.12/site-packages (from nbconvert>=6.4.4->jupyter-server<3,>=2.4.0->jupyterlab->-r requirements.txt (line 25)) (3.1.4)\n",
      "Requirement already satisfied: nbclient>=0.5.0 in /home/mar/rocm-pytorch/lib/python3.12/site-packages (from nbconvert>=6.4.4->jupyter-server<3,>=2.4.0->jupyterlab->-r requirements.txt (line 25)) (0.10.2)\n",
      "Requirement already satisfied: pandocfilters>=1.4.1 in /home/mar/rocm-pytorch/lib/python3.12/site-packages (from nbconvert>=6.4.4->jupyter-server<3,>=2.4.0->jupyterlab->-r requirements.txt (line 25)) (1.5.1)\n",
      "Requirement already satisfied: webencodings in /home/mar/rocm-pytorch/lib/python3.12/site-packages (from bleach!=5.0.0->bleach[css]!=5.0.0->nbconvert>=6.4.4->jupyter-server<3,>=2.4.0->jupyterlab->-r requirements.txt (line 25)) (0.5.1)\n",
      "Requirement already satisfied: tinycss2<1.5,>=1.1.0 in /home/mar/rocm-pytorch/lib/python3.12/site-packages (from bleach[css]!=5.0.0->nbconvert>=6.4.4->jupyter-server<3,>=2.4.0->jupyterlab->-r requirements.txt (line 25)) (1.4.0)\n",
      "Requirement already satisfied: fastjsonschema>=2.15 in /home/mar/rocm-pytorch/lib/python3.12/site-packages (from nbformat>=5.3.0->jupyter-server<3,>=2.4.0->jupyterlab->-r requirements.txt (line 25)) (2.21.2)\n",
      "Requirement already satisfied: ptyprocess>=0.5 in /home/mar/rocm-pytorch/lib/python3.12/site-packages (from pexpect>4.3->ipython>=7.23.1->ipykernel!=6.30.0,>=6.5.0->jupyterlab->-r requirements.txt (line 25)) (0.7.0)\n",
      "Requirement already satisfied: annotated-types>=0.6.0 in /home/mar/rocm-pytorch/lib/python3.12/site-packages (from pydantic>=2.9.2->albumentations->-r requirements.txt (line 33)) (0.7.0)\n",
      "Requirement already satisfied: pydantic-core==2.41.4 in /home/mar/rocm-pytorch/lib/python3.12/site-packages (from pydantic>=2.9.2->albumentations->-r requirements.txt (line 33)) (2.41.4)\n",
      "Requirement already satisfied: typing-inspection>=0.4.2 in /home/mar/rocm-pytorch/lib/python3.12/site-packages (from pydantic>=2.9.2->albumentations->-r requirements.txt (line 33)) (0.4.2)\n",
      "Requirement already satisfied: six>=1.5 in /home/mar/rocm-pytorch/lib/python3.12/site-packages (from python-dateutil>=2.8.2->pandas->-r requirements.txt (line 13)) (1.17.0)\n",
      "Requirement already satisfied: charset_normalizer<4,>=2 in /home/mar/rocm-pytorch/lib/python3.12/site-packages (from requests>=2.31->jupyterlab-server<3,>=2.27.1->jupyterlab->-r requirements.txt (line 25)) (3.4.4)\n",
      "Requirement already satisfied: urllib3<3,>=1.21.1 in /home/mar/rocm-pytorch/lib/python3.12/site-packages (from requests>=2.31->jupyterlab-server<3,>=2.27.1->jupyterlab->-r requirements.txt (line 25)) (2.5.0)\n",
      "Requirement already satisfied: lark>=1.2.2 in /home/mar/rocm-pytorch/lib/python3.12/site-packages (from rfc3987-syntax>=1.1.0->jsonschema[format-nongpl]>=4.18.0->jupyter-events>=0.11.0->jupyter-server<3,>=2.4.0->jupyterlab->-r requirements.txt (line 25)) (1.3.0)\n",
      "Requirement already satisfied: cffi>=1.0.1 in /home/mar/rocm-pytorch/lib/python3.12/site-packages (from argon2-cffi-bindings->argon2-cffi>=21.1->jupyter-server<3,>=2.4.0->jupyterlab->-r requirements.txt (line 25)) (2.0.0)\n",
      "Requirement already satisfied: pycparser in /home/mar/rocm-pytorch/lib/python3.12/site-packages (from cffi>=1.0.1->argon2-cffi-bindings->argon2-cffi>=21.1->jupyter-server<3,>=2.4.0->jupyterlab->-r requirements.txt (line 25)) (2.23)\n",
      "Requirement already satisfied: soupsieve>1.2 in /home/mar/rocm-pytorch/lib/python3.12/site-packages (from beautifulsoup4->nbconvert>=6.4.4->jupyter-server<3,>=2.4.0->jupyterlab->-r requirements.txt (line 25)) (2.8)\n",
      "Requirement already satisfied: humanfriendly>=9.1 in /home/mar/rocm-pytorch/lib/python3.12/site-packages (from coloredlogs->onnxruntime-gpu->-r requirements.txt (line 32)) (10.0)\n",
      "Requirement already satisfied: arrow>=0.15.0 in /home/mar/rocm-pytorch/lib/python3.12/site-packages (from isoduration->jsonschema[format-nongpl]>=4.18.0->jupyter-events>=0.11.0->jupyter-server<3,>=2.4.0->jupyterlab->-r requirements.txt (line 25)) (1.4.0)\n",
      "Requirement already satisfied: executing>=1.2.0 in /home/mar/rocm-pytorch/lib/python3.12/site-packages (from stack_data->ipython>=7.23.1->ipykernel!=6.30.0,>=6.5.0->jupyterlab->-r requirements.txt (line 25)) (2.2.1)\n",
      "Requirement already satisfied: asttokens>=2.1.0 in /home/mar/rocm-pytorch/lib/python3.12/site-packages (from stack_data->ipython>=7.23.1->ipykernel!=6.30.0,>=6.5.0->jupyterlab->-r requirements.txt (line 25)) (3.0.0)\n",
      "Requirement already satisfied: pure-eval in /home/mar/rocm-pytorch/lib/python3.12/site-packages (from stack_data->ipython>=7.23.1->ipykernel!=6.30.0,>=6.5.0->jupyterlab->-r requirements.txt (line 25)) (0.2.3)\n",
      "Requirement already satisfied: mpmath<1.4,>=1.1.0 in /home/mar/rocm-pytorch/lib/python3.12/site-packages (from sympy->torch==2.4.1+rocm6.1->-r requirements.txt (line 4)) (1.3.0)\n",
      "Note: you may need to restart the kernel to use updated packages.\n"
     ]
    }
   ],
   "source": [
    "pip install -r requirements.txt"
   ]
  },
  {
   "cell_type": "code",
   "execution_count": 2,
   "id": "d8d499f7-c6f3-4785-b2ff-7698352fa605",
   "metadata": {},
   "outputs": [
    {
     "name": "stdout",
     "output_type": "stream",
     "text": [
      "GPU info saved to docs/gpu_info.md\n"
     ]
    }
   ],
   "source": [
    "import torch\n",
    "\n",
    "device_name = torch.cuda.get_device_name(0)\n",
    "total_memory = torch.cuda.get_device_properties(0).total_memory / (1024 ** 3)  # bytes to GB\n",
    "\n",
    "md_table = f\"\"\"\n",
    " Device Name           | Total Memory (GB) \n",
    "-----------------------|-------------------\n",
    " {device_name}  | {total_memory:.2f}\n",
    "\"\"\" \n",
    "\n",
    "with open(\"docs/gpu_info.md\", \"w\", encoding=\"utf-8\") as f:\n",
    "    f.write(md_table)\n",
    "\n",
    "print(\"GPU info saved to docs/gpu_info.md\")"
   ]
  },
  {
   "cell_type": "code",
   "execution_count": 3,
   "id": "a299beef-6d6d-40fa-b1c8-a624b73ed8ae",
   "metadata": {},
   "outputs": [
    {
     "name": "stderr",
     "output_type": "stream",
     "text": [
      "/home/mar/rocm-pytorch/lib/python3.12/site-packages/albumentations/core/validation.py:114: UserWarning: ShiftScaleRotate is a special case of Affine transform. Please use Affine transform instead.\n",
      "  original_init(self, **validated_kwargs)\n"
     ]
    },
    {
     "name": "stdout",
     "output_type": "stream",
     "text": [
      "Files already downloaded and verified\n",
      "Files already downloaded and verified\n"
     ]
    },
    {
     "name": "stderr",
     "output_type": "stream",
     "text": [
      "/home/mar/rocm-pytorch/lib/python3.12/site-packages/torchvision/models/_utils.py:208: UserWarning: The parameter 'pretrained' is deprecated since 0.13 and may be removed in the future, please use 'weights' instead.\n",
      "  warnings.warn(\n",
      "/home/mar/rocm-pytorch/lib/python3.12/site-packages/torchvision/models/_utils.py:223: UserWarning: Arguments other than a weight enum or `None` for 'weights' are deprecated since 0.13 and may be removed in the future. The current behavior is equivalent to passing `weights=EfficientNet_B3_Weights.IMAGENET1K_V1`. You can also use `weights=EfficientNet_B3_Weights.DEFAULT` to get the most up-to-date weights.\n",
      "  warnings.warn(msg)\n",
      "/tmp/ipykernel_20647/2123562106.py:81: FutureWarning: `torch.cuda.amp.GradScaler(args...)` is deprecated. Please use `torch.amp.GradScaler('cuda', args...)` instead.\n",
      "  scaler = torch.cuda.amp.GradScaler()\n"
     ]
    },
    {
     "name": "stdout",
     "output_type": "stream",
     "text": [
      "Starting training...\n"
     ]
    },
    {
     "name": "stderr",
     "output_type": "stream",
     "text": [
      "Epoch 1/10:   0%|                                        | 0/3125 [00:00<?, ?it/s]/tmp/ipykernel_20647/2123562106.py:94: FutureWarning: `torch.cuda.amp.autocast(args...)` is deprecated. Please use `torch.amp.autocast('cuda', args...)` instead.\n",
      "  with torch.cuda.amp.autocast():\n",
      "Epoch 1/10: 100%|████████████████| 3125/3125 [06:27<00:00,  8.07it/s, loss=0.0828]\n"
     ]
    },
    {
     "name": "stdout",
     "output_type": "stream",
     "text": [
      "Epoch 01 | Loss: 0.3767 | Train Acc: 0.8783 | Val Acc: 0.9149\n"
     ]
    },
    {
     "name": "stderr",
     "output_type": "stream",
     "text": [
      "Epoch 2/10: 100%|████████████████| 3125/3125 [05:57<00:00,  8.73it/s, loss=0.0278]\n"
     ]
    },
    {
     "name": "stdout",
     "output_type": "stream",
     "text": [
      "Epoch 02 | Loss: 0.2047 | Train Acc: 0.9327 | Val Acc: 0.8907\n"
     ]
    },
    {
     "name": "stderr",
     "output_type": "stream",
     "text": [
      "Epoch 3/10: 100%|████████████████| 3125/3125 [05:57<00:00,  8.73it/s, loss=0.0547]\n"
     ]
    },
    {
     "name": "stdout",
     "output_type": "stream",
     "text": [
      "Epoch 03 | Loss: 0.1527 | Train Acc: 0.9492 | Val Acc: 0.9055\n"
     ]
    },
    {
     "name": "stderr",
     "output_type": "stream",
     "text": [
      "Epoch 4/10: 100%|███████████████| 3125/3125 [05:57<00:00,  8.73it/s, loss=0.00706]\n"
     ]
    },
    {
     "name": "stdout",
     "output_type": "stream",
     "text": [
      "Epoch 04 | Loss: 0.1107 | Train Acc: 0.9623 | Val Acc: 0.9059\n"
     ]
    },
    {
     "name": "stderr",
     "output_type": "stream",
     "text": [
      "Epoch 5/10: 100%|████████████████| 3125/3125 [05:58<00:00,  8.73it/s, loss=0.0146]\n"
     ]
    },
    {
     "name": "stdout",
     "output_type": "stream",
     "text": [
      "Epoch 05 | Loss: 0.0829 | Train Acc: 0.9720 | Val Acc: 0.9045\n"
     ]
    },
    {
     "name": "stderr",
     "output_type": "stream",
     "text": [
      "Epoch 6/10: 100%|█████████████████| 3125/3125 [05:57<00:00,  8.73it/s, loss=0.114]\n"
     ]
    },
    {
     "name": "stdout",
     "output_type": "stream",
     "text": [
      "Epoch 06 | Loss: 0.0605 | Train Acc: 0.9800 | Val Acc: 0.9116\n"
     ]
    },
    {
     "name": "stderr",
     "output_type": "stream",
     "text": [
      "Epoch 7/10: 100%|███████████████| 3125/3125 [05:57<00:00,  8.74it/s, loss=0.00268]\n"
     ]
    },
    {
     "name": "stdout",
     "output_type": "stream",
     "text": [
      "Epoch 07 | Loss: 0.0399 | Train Acc: 0.9867 | Val Acc: 0.9164\n"
     ]
    },
    {
     "name": "stderr",
     "output_type": "stream",
     "text": [
      "Epoch 8/10: 100%|█████████████████| 3125/3125 [05:57<00:00,  8.74it/s, loss=0.017]\n"
     ]
    },
    {
     "name": "stdout",
     "output_type": "stream",
     "text": [
      "Epoch 08 | Loss: 0.0283 | Train Acc: 0.9906 | Val Acc: 0.9116\n"
     ]
    },
    {
     "name": "stderr",
     "output_type": "stream",
     "text": [
      "Epoch 9/10: 100%|██████████████| 3125/3125 [05:57<00:00,  8.74it/s, loss=0.000279]\n"
     ]
    },
    {
     "name": "stdout",
     "output_type": "stream",
     "text": [
      "Epoch 09 | Loss: 0.0207 | Train Acc: 0.9930 | Val Acc: 0.9301\n"
     ]
    },
    {
     "name": "stderr",
     "output_type": "stream",
     "text": [
      "Epoch 10/10: 100%|███████████████| 3125/3125 [05:57<00:00,  8.74it/s, loss=0.0056]\n"
     ]
    },
    {
     "name": "stdout",
     "output_type": "stream",
     "text": [
      "Epoch 10 | Loss: 0.0156 | Train Acc: 0.9948 | Val Acc: 0.9242\n",
      "Plot saved: accuracy_plot.png\n"
     ]
    },
    {
     "data": {
      "image/png": "[encoded data removed]",
      "text/plain": [
       "<Figure size 1000x600 with 1 Axes>"
      ]
     },
     "metadata": {},
     "output_type": "display_data"
    },
    {
     "name": "stdout",
     "output_type": "stream",
     "text": [
      "\n",
      "Final Validation Accuracy: 0.9242 (92.42%)\n",
      "Train samples: 50000, Val samples: 10000\n",
      "Data loaders created!\n"
     ]
    }
   ],
   "source": [
    "import os\n",
    "import torch\n",
    "import torch.nn as nn\n",
    "from torch.utils.data import DataLoader\n",
    "import torchvision\n",
    "from torchvision import datasets, transforms\n",
    "import albumentations as A\n",
    "from albumentations.pytorch import ToTensorV2\n",
    "from tqdm import tqdm\n",
    "import numpy as np\n",
    "import matplotlib.pyplot as plt\n",
    "\n",
    "os.environ[\"PYTORCH_HIP_ALLOC_CONF\"] = \"expandable_segments:True\"\n",
    "\n",
    "device = torch.device(\"cuda\" if torch.cuda.is_available() else \"cpu\")\n",
    "\n",
    "val_transform = transforms.Compose([\n",
    "    transforms.Resize(256),\n",
    "    transforms.CenterCrop(224),\n",
    "    transforms.ToTensor(),\n",
    "    transforms.Normalize([0.485, 0.456, 0.406], [0.229, 0.224, 0.225])\n",
    "])\n",
    "\n",
    "train_transform = A.Compose([\n",
    "    A.Resize(160, 160),\n",
    "    A.RandomCrop(160, 160),\n",
    "    A.HorizontalFlip(p=0.5),\n",
    "    A.RandomBrightnessContrast(p=0.2),\n",
    "    A.ShiftScaleRotate(shift_limit=0.1, scale_limit=0.1, rotate_limit=30, p=0.5),\n",
    "    A.Normalize(mean=[0.485, 0.456, 0.406], std=[0.229, 0.224, 0.225]),\n",
    "    ToTensorV2()\n",
    "])\n",
    "\n",
    "class AlbumentationsWrapper:\n",
    "    def __init__(self, transform):\n",
    "        self.transform = transform\n",
    "\n",
    "    def __call__(self, img):\n",
    "        img = np.array(img)\n",
    "        augmented = self.transform(image=img)\n",
    "        return augmented['image']\n",
    "\n",
    "data_root = \"content/\"\n",
    "train_ds = datasets.CIFAR10(\n",
    "    root=data_root, train=True, download=True,\n",
    "    transform=AlbumentationsWrapper(train_transform)\n",
    ")\n",
    "\n",
    "val_ds = datasets.CIFAR10(\n",
    "    root=data_root, train=False, download=True,\n",
    "    transform=val_transform\n",
    ")\n",
    "\n",
    "train_loader = DataLoader(train_ds, batch_size=16, shuffle=True,\n",
    "                          num_workers=4, pin_memory=True, prefetch_factor=2)\n",
    "val_loader = DataLoader(val_ds, batch_size=32, shuffle=False,\n",
    "                        num_workers=4, pin_memory=True, prefetch_factor=2)\n",
    "\n",
    "model = torchvision.models.efficientnet_b3(pretrained=True)\n",
    "model.classifier[1] = nn.Linear(model.classifier[1].in_features, 10)\n",
    "model = model.to(device)\n",
    "\n",
    "criterion = nn.CrossEntropyLoss()\n",
    "optimizer = torch.optim.AdamW(model.parameters(), lr=3e-4, weight_decay=1e-5)\n",
    "scheduler = torch.optim.lr_scheduler.CosineAnnealingLR(optimizer, T_max=10)\n",
    "\n",
    "def compute_accuracy(model, loader):\n",
    "    model.eval()\n",
    "    correct = total = 0\n",
    "    with torch.no_grad():\n",
    "        for x, y in loader:\n",
    "            x, y = x.to(device, non_blocking=True), y.to(device, non_blocking=True)\n",
    "            correct += (model(x).argmax(1) == y).sum().item()\n",
    "            total += y.size(0)\n",
    "    return correct / total\n",
    "\n",
    "train_accs = []\n",
    "val_accs = []\n",
    "losses = []\n",
    "\n",
    "scaler = torch.cuda.amp.GradScaler()\n",
    "\n",
    "print(\"Starting training...\")\n",
    "for epoch in range(1, 11):\n",
    "    model.train()\n",
    "    running_loss = 0.0\n",
    "    epoch_correct = epoch_total = 0\n",
    "\n",
    "    pbar = tqdm(train_loader, desc=f\"Epoch {epoch}/10\")\n",
    "    for x, y in pbar:\n",
    "        x, y = x.to(device, non_blocking=True), y.to(device, non_blocking=True)\n",
    "        optimizer.zero_grad(set_to_none=True)\n",
    "\n",
    "        with torch.cuda.amp.autocast():\n",
    "            outputs = model(x)\n",
    "            loss = criterion(outputs, y)\n",
    "\n",
    "        scaler.scale(loss).backward()\n",
    "        scaler.step(optimizer)\n",
    "        scaler.update()\n",
    "\n",
    "        running_loss += loss.item()\n",
    "        epoch_correct += (outputs.argmax(1) == y).sum().item()\n",
    "        epoch_total += y.size(0)\n",
    "        pbar.set_postfix(loss=loss.item())\n",
    "\n",
    "    scheduler.step()\n",
    "\n",
    "    train_acc = epoch_correct / epoch_total\n",
    "    val_acc = compute_accuracy(model, val_loader)\n",
    "    avg_loss = running_loss / len(train_loader)\n",
    "\n",
    "    train_accs.append(train_acc)\n",
    "    val_accs.append(val_acc)\n",
    "    losses.append(avg_loss)\n",
    "\n",
    "    print(f\"Epoch {epoch:02d} | Loss: {avg_loss:.4f} | \"\n",
    "          f\"Train Acc: {train_acc:.4f} | Val Acc: {val_acc:.4f}\")\n",
    "\n",
    "os.makedirs(\"checkpoints\", exist_ok=True)\n",
    "torch.save({\n",
    "    'model_state_dict': model.state_dict(),\n",
    "    'optimizer_state_dict': optimizer.state_dict(),\n",
    "    'val_acc': val_accs[-1]\n",
    "}, \"checkpoints/effnet_b3_cifar10_alb.pth\")\n",
    "\n",
    "plt.figure(figsize=(10, 6))\n",
    "epochs = range(1, 11)\n",
    "plt.plot(epochs, train_accs, 'o-', label='Train Accuracy', linewidth=2)\n",
    "plt.plot(epochs, val_accs, 's-', label='Val Accuracy', linewidth=2)\n",
    "plt.title('EfficientNet-B3 + Albumentations → CIFAR-10 (10 epochs)')\n",
    "plt.xlabel('Epoch')\n",
    "plt.ylabel('Accuracy')\n",
    "plt.legend()\n",
    "plt.grid(True, alpha=0.3)\n",
    "plt.xticks(epochs)\n",
    "plt.ylim(0.5, 1.0)\n",
    "\n",
    "plot_path = \"accuracy_plot.png\"\n",
    "plt.savefig(plot_path, dpi=300, bbox_inches='tight')\n",
    "print(f\"Plot saved: {plot_path}\")\n",
    "plt.show()\n",
    "\n",
    "final_acc = val_accs[-1]\n",
    "print(f\"\\nFinal Validation Accuracy: {final_acc:.4f} ({final_acc:.2%})\")\n",
    "assert final_acc >= 0.87, \"Accuracy below 87% — try again or check augmentations\"\n",
    "\n",
    "print(f\"Train samples: {len(train_ds)}, Val samples: {len(val_ds)}\")\n",
    "os.environ[\"PYTORCH_HIP_ALLOC_CONF\"] = \"expandable_segments:True\"\n",
    "print(\"Data loaders created!\")\n"
   ]
  },
  {
   "cell_type": "code",
   "execution_count": 4,
   "id": "ac33ea9c-0349-4820-b00d-a97a7fd16ffd",
   "metadata": {},
   "outputs": [
    {
     "data": {
      "text/plain": [
       "'/home/mar/lab'"
      ]
     },
     "execution_count": 4,
     "metadata": {},
     "output_type": "execute_result"
    }
   ],
   "source": [
    "pwd"
   ]
  },
  {
   "cell_type": "code",
   "execution_count": null,
   "id": "4122c2e5-8106-4541-94e1-a5fe08255eee",
   "metadata": {},
   "outputs": [],
   "source": []
  }
 ],
 "metadata": {
  "kernelspec": {
   "display_name": "Python 3 (ipykernel)",
   "language": "python",
   "name": "python3"
  },
  "language_info": {
   "codemirror_mode": {
    "name": "ipython",
    "version": 3
   },
   "file_extension": ".py",
   "mimetype": "text/x-python",
   "name": "python",
   "nbconvert_exporter": "python",
   "pygments_lexer": "ipython3",
   "version": "3.12.3"
  }
 },
 "nbformat": 4,
 "nbformat_minor": 5
}
